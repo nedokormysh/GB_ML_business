{
  "nbformat": 4,
  "nbformat_minor": 0,
  "metadata": {
    "colab": {
      "provenance": [],
      "authorship_tag": "ABX9TyNb1944X1BTr6lkUc44vQfE",
      "include_colab_link": true
    },
    "kernelspec": {
      "name": "python3",
      "display_name": "Python 3"
    },
    "language_info": {
      "name": "python"
    }
  },
  "cells": [
    {
      "cell_type": "markdown",
      "metadata": {
        "id": "view-in-github",
        "colab_type": "text"
      },
      "source": [
        "<a href=\"https://colab.research.google.com/github/nedokormysh/GB_ML_business/blob/lesson8/ML_business_hw_8.ipynb\" target=\"_parent\"><img src=\"https://colab.research.google.com/assets/colab-badge.svg\" alt=\"Open In Colab\"/></a>"
      ]
    },
    {
      "cell_type": "markdown",
      "source": [
        "# Теория."
      ],
      "metadata": {
        "id": "jZtgevbSOzIA"
      }
    },
    {
      "cell_type": "markdown",
      "source": [
        "\n",
        "\n",
        "## 1. Если мы рассчитали 95% доверительный интервал для среднего значения, то какие из следующих утверждений являются верными?\n",
        "\n",
        "Выберите несколько вариантов и попытайтесь объяснить свой выбор:\n",
        "\n",
        "1) Если многократно повторять эксперимент, то 95 % выборочных средних значений будут принадлежать рассчитанному нами доверительному интервалу.\n",
        "\n",
        "2) Мы можем быть на 95% уверены, что среднее значение в генеральной совокупности принадлежит рассчитанному доверительному интервалу.\n",
        "\n",
        "3) Если многократно повторять эксперимент, для каждой выборки рассчитывать свой доверительный интервал, то в 95 % случаев истинное среднее будет находиться внутри доверительного интервала.\n",
        "\n",
        "4) Среднее значение в генеральной совокупности точно превышает нижнюю границу 95% доверительного интервала.\n",
        "\n",
        "5) Среднее значение в генеральной совокупности точно принадлежит рассчитанному доверительному интервалу.\n",
        "\n"
      ],
      "metadata": {
        "id": "ZjW7itA7Fbp3"
      }
    },
    {
      "cell_type": "markdown",
      "source": [
        "Ответы: 1, 2, 3.\n",
        "\n",
        "Верны из определения. Последние 2 ответа - мы не уверены в этом на 100%."
      ],
      "metadata": {
        "id": "ugnd8kuwHzxB"
      }
    },
    {
      "cell_type": "markdown",
      "source": [
        "## 2. Если мы увеличиваем объем выборки в два раза (при условии, что показатель стандартного отклонения остается неизменным), то 95% доверительный интервал\n",
        "\n",
        "Выберите один вариант из списка\n",
        "\n",
        "1) стал более узким\n",
        "\n",
        "2) возможны оба варианта\n",
        "\n",
        "3) стал более широким"
      ],
      "metadata": {
        "id": "l0en15YsI-4S"
      }
    },
    {
      "cell_type": "markdown",
      "source": [
        "Ответ: стал более узким. С увеличением размера выборки уменьшится стандартная ошибка, а следовательно, станет меньше сам интервал. Обратная пропорциональность корню квадратному из объема выборки."
      ],
      "metadata": {
        "id": "gLAGuo-pJAiy"
      }
    },
    {
      "cell_type": "markdown",
      "source": [
        "## 3. В центре 95% доверительного интервала, рассчитанного по выборочным значениям, находится:\n",
        "\n",
        "Выберите один вариант из списка\n",
        "\n",
        "1) Значение стандартной ошибки среднего\n",
        "\n",
        "2) Выборочное среднее значение\n",
        "\n",
        "3) Среднее значение генеральной совокупности"
      ],
      "metadata": {
        "id": "ooqfu4zNJTgJ"
      }
    },
    {
      "cell_type": "markdown",
      "source": [
        "Ответ: 3. Среднее значение генеральной совокупности"
      ],
      "metadata": {
        "id": "b2RdmLW3KA_S"
      }
    },
    {
      "cell_type": "markdown",
      "source": [
        "## 4. Часто на практике нулевая гипотеза отклоняется, и различия считаются статистически достоверными, если p < 0,05. Однако часто в статистике используется более жесткий критерий достоверности различий, например, при условии, что p < 0,01. Значение p-уровня значимости, которое выбирается, в качестве порога обозначается буквой α (альфа). Например, если исследователь решил, что α = 0,05, то и нулевая гипотеза будет отклоняться при условии, что p < 0,05. \n",
        "\n",
        "#### Если в определенной ситуации весьма рискованно отклонить нулевую гипотезу, когда она на самом деле верна, то лучше использовать показатель α равный \n",
        "\n",
        "Выберите один вариант из списка\n",
        "\n",
        "1) 0,1\n",
        "\n",
        "2) 0,001\n",
        "\n",
        "3) 0,05\n",
        "\n",
        "4) 0,5"
      ],
      "metadata": {
        "id": "RP4GlHFfKHNC"
      }
    },
    {
      "cell_type": "markdown",
      "source": [
        "Ответ: 2  - тем меньше будет вероятнось отвергнуть верную гипотезу"
      ],
      "metadata": {
        "id": "UwdjibyXKXkj"
      }
    },
    {
      "cell_type": "markdown",
      "source": [
        "## 5. Данные некоторого исследования сообщают нам, что средний рост детей в 14 лет составляет 166 сантиметров. Однако это лишь выборочная оценка, и исследователи рассчитали 95% доверительный интервал, который составил [160, 172]. Укажите верные утверждения:\n",
        "\n",
        "Выберите несколько вариантов и попытайтесь объяснить свой выбор:\n",
        "\n",
        "1) У нас достаточно оснований отклонить нулевую гипотезу, что среднее в генеральной совокупности равняется 173\n",
        "\n",
        "2) Вероятность того, что истинное среднее значение больше 172, составляет 0,01\n",
        "\n",
        "3) У нас достаточно оснований отклонить нулевую гипотезу, что среднее в генеральной совокупности равняется 158.\n",
        "\n",
        "4) Доверительный интервал не может иметь такие границы, т. к. выборочное стандартное отклонение равняется 10, следовательно доверительный интервал должен быть значительно шире."
      ],
      "metadata": {
        "id": "y0nEOe7PK0yb"
      }
    },
    {
      "cell_type": "markdown",
      "source": [
        "Ответ: 1, 3 \n",
        "так как p-value будет ниже, чем стандартный уровень значимости альфа 0.05 "
      ],
      "metadata": {
        "id": "hFLs6vIrK4VL"
      }
    },
    {
      "cell_type": "markdown",
      "source": [
        "## 6. Предположим, нулевой гипотезой вашего исследования являлось предположение, что конверсия в генеральной совокупности равняется 0.4. Вы получили p = 0,12 и не смогли отклонить нулевую гипотезу. Однако позже выяснилось, что конверсия в генеральной совокупности действительно равна 0.4. Как можно оценить результаты?\n",
        "\n",
        "\n",
        "Какой вариант корректный по вашему мнению и почему?\n",
        "\n",
        "1) Вы не совершали ни ошибку первого рода, ни ошибку второго рода.\n",
        "\n",
        "2) Вы совершили ошибку первого рода\n",
        "\n",
        "3) Вы совершили ошибку второго рода"
      ],
      "metadata": {
        "id": "vH_NCoXwNyWR"
      }
    },
    {
      "cell_type": "markdown",
      "source": [
        "Ответ: 1. так как верная гипотеза не была отклонена"
      ],
      "metadata": {
        "id": "Nt6ctp2bN1Ag"
      }
    },
    {
      "cell_type": "markdown",
      "source": [
        "# Практика"
      ],
      "metadata": {
        "id": "Jo8fuWAJQPdO"
      }
    },
    {
      "cell_type": "markdown",
      "source": [
        "Взять датасет из google диска: https://drive.google.com/file/d/101fYypHh0u56KC5Lq2ywOCOdnh7WPho2/view?usp=sharing. Проверить гипотезу о том, в каком варианте теста (control/personalization) больше конверсия (converted) и значимо ли это отличие статистически."
      ],
      "metadata": {
        "id": "AdGsyCsZQR5O"
      }
    },
    {
      "cell_type": "code",
      "source": [
        "!wget 'https://drive.google.com/uc?export=download&id=101fYypHh0u56KC5Lq2ywOCOdnh7WPho2' -O data.zip"
      ],
      "metadata": {
        "colab": {
          "base_uri": "https://localhost:8080/"
        },
        "id": "EEdCWZBqOaD8",
        "outputId": "22447ca0-b7f5-4d7d-879b-c38c4f0b3a9c"
      },
      "execution_count": null,
      "outputs": [
        {
          "output_type": "stream",
          "name": "stdout",
          "text": [
            "--2023-02-17 07:23:51--  https://drive.google.com/uc?export=download&id=101fYypHh0u56KC5Lq2ywOCOdnh7WPho2\n",
            "Resolving drive.google.com (drive.google.com)... 142.251.163.139, 142.251.163.102, 142.251.163.101, ...\n",
            "Connecting to drive.google.com (drive.google.com)|142.251.163.139|:443... connected.\n",
            "HTTP request sent, awaiting response... 303 See Other\n",
            "Location: https://doc-14-94-docs.googleusercontent.com/docs/securesc/ha0ro937gcuc7l7deffksulhg5h7mbp1/8uq9e396h3iqcd0d2lbmcr7mkc7gd9hs/1676618625000/14165537686129864864/*/101fYypHh0u56KC5Lq2ywOCOdnh7WPho2?e=download&uuid=7bcce712-a64f-411f-a9d7-1fe7e1b4d896 [following]\n",
            "Warning: wildcards not supported in HTTP.\n",
            "--2023-02-17 07:23:52--  https://doc-14-94-docs.googleusercontent.com/docs/securesc/ha0ro937gcuc7l7deffksulhg5h7mbp1/8uq9e396h3iqcd0d2lbmcr7mkc7gd9hs/1676618625000/14165537686129864864/*/101fYypHh0u56KC5Lq2ywOCOdnh7WPho2?e=download&uuid=7bcce712-a64f-411f-a9d7-1fe7e1b4d896\n",
            "Resolving doc-14-94-docs.googleusercontent.com (doc-14-94-docs.googleusercontent.com)... 142.251.163.132, 2607:f8b0:4004:c1b::84\n",
            "Connecting to doc-14-94-docs.googleusercontent.com (doc-14-94-docs.googleusercontent.com)|142.251.163.132|:443... connected.\n",
            "HTTP request sent, awaiting response... 200 OK\n",
            "Length: 81015 (79K) [application/zip]\n",
            "Saving to: ‘data.zip’\n",
            "\n",
            "data.zip            100%[===================>]  79.12K  --.-KB/s    in 0.001s  \n",
            "\n",
            "2023-02-17 07:23:52 (83.5 MB/s) - ‘data.zip’ saved [81015/81015]\n",
            "\n"
          ]
        }
      ]
    },
    {
      "cell_type": "code",
      "source": [
        "!unzip data.zip"
      ],
      "metadata": {
        "colab": {
          "base_uri": "https://localhost:8080/"
        },
        "id": "6nGN_hqNQgBE",
        "outputId": "673f278a-7ab2-4cb1-f357-f10877b659ce"
      },
      "execution_count": null,
      "outputs": [
        {
          "output_type": "stream",
          "name": "stdout",
          "text": [
            "Archive:  data.zip\n",
            "  inflating: marketing description.txt  \n",
            "  inflating: marketing_campaign.csv  \n",
            "  inflating: subscribers.csv         \n",
            "  inflating: users.csv               \n"
          ]
        }
      ]
    },
    {
      "cell_type": "code",
      "source": [
        "import numpy as np\n",
        "import pandas as pd\n",
        "import scipy.stats as stats\n",
        "from statsmodels.stats import proportion"
      ],
      "metadata": {
        "id": "rHWCg7ykQihk"
      },
      "execution_count": null,
      "outputs": []
    },
    {
      "cell_type": "code",
      "source": [
        "marketing_campaign = pd.read_csv('marketing_campaign.csv')\n",
        "marketing_campaign"
      ],
      "metadata": {
        "colab": {
          "base_uri": "https://localhost:8080/",
          "height": 424
        },
        "id": "wsuqSuNrQkjE",
        "outputId": "072d48c8-dadb-4ebd-ef8e-8c668209234b"
      },
      "execution_count": null,
      "outputs": [
        {
          "output_type": "execute_result",
          "data": {
            "text/plain": [
              "      user_id date_served marketing_channel          variant  \\\n",
              "0       a1000      1/1/18         House Ads  personalization   \n",
              "1       a1001      1/1/18         House Ads  personalization   \n",
              "2       a1002      1/1/18         House Ads  personalization   \n",
              "3       a1003      1/1/18         House Ads  personalization   \n",
              "4       a1004      1/1/18         House Ads  personalization   \n",
              "...       ...         ...               ...              ...   \n",
              "10032  a11032     1/17/18             Email          control   \n",
              "10033  a11033     1/17/18             Email          control   \n",
              "10034  a11034      1/5/18         Instagram          control   \n",
              "10035  a11035     1/17/18             Email          control   \n",
              "10036  a11036      1/6/18          Facebook          control   \n",
              "\n",
              "      language_displayed converted  \n",
              "0                English      True  \n",
              "1                English      True  \n",
              "2                English      True  \n",
              "3                English      True  \n",
              "4                English      True  \n",
              "...                  ...       ...  \n",
              "10032             German      True  \n",
              "10033             German      True  \n",
              "10034             German     False  \n",
              "10035             German      True  \n",
              "10036             German     False  \n",
              "\n",
              "[10037 rows x 6 columns]"
            ],
            "text/html": [
              "\n",
              "  <div id=\"df-ca4acd6d-8431-496c-bab3-f2d917737f69\">\n",
              "    <div class=\"colab-df-container\">\n",
              "      <div>\n",
              "<style scoped>\n",
              "    .dataframe tbody tr th:only-of-type {\n",
              "        vertical-align: middle;\n",
              "    }\n",
              "\n",
              "    .dataframe tbody tr th {\n",
              "        vertical-align: top;\n",
              "    }\n",
              "\n",
              "    .dataframe thead th {\n",
              "        text-align: right;\n",
              "    }\n",
              "</style>\n",
              "<table border=\"1\" class=\"dataframe\">\n",
              "  <thead>\n",
              "    <tr style=\"text-align: right;\">\n",
              "      <th></th>\n",
              "      <th>user_id</th>\n",
              "      <th>date_served</th>\n",
              "      <th>marketing_channel</th>\n",
              "      <th>variant</th>\n",
              "      <th>language_displayed</th>\n",
              "      <th>converted</th>\n",
              "    </tr>\n",
              "  </thead>\n",
              "  <tbody>\n",
              "    <tr>\n",
              "      <th>0</th>\n",
              "      <td>a1000</td>\n",
              "      <td>1/1/18</td>\n",
              "      <td>House Ads</td>\n",
              "      <td>personalization</td>\n",
              "      <td>English</td>\n",
              "      <td>True</td>\n",
              "    </tr>\n",
              "    <tr>\n",
              "      <th>1</th>\n",
              "      <td>a1001</td>\n",
              "      <td>1/1/18</td>\n",
              "      <td>House Ads</td>\n",
              "      <td>personalization</td>\n",
              "      <td>English</td>\n",
              "      <td>True</td>\n",
              "    </tr>\n",
              "    <tr>\n",
              "      <th>2</th>\n",
              "      <td>a1002</td>\n",
              "      <td>1/1/18</td>\n",
              "      <td>House Ads</td>\n",
              "      <td>personalization</td>\n",
              "      <td>English</td>\n",
              "      <td>True</td>\n",
              "    </tr>\n",
              "    <tr>\n",
              "      <th>3</th>\n",
              "      <td>a1003</td>\n",
              "      <td>1/1/18</td>\n",
              "      <td>House Ads</td>\n",
              "      <td>personalization</td>\n",
              "      <td>English</td>\n",
              "      <td>True</td>\n",
              "    </tr>\n",
              "    <tr>\n",
              "      <th>4</th>\n",
              "      <td>a1004</td>\n",
              "      <td>1/1/18</td>\n",
              "      <td>House Ads</td>\n",
              "      <td>personalization</td>\n",
              "      <td>English</td>\n",
              "      <td>True</td>\n",
              "    </tr>\n",
              "    <tr>\n",
              "      <th>...</th>\n",
              "      <td>...</td>\n",
              "      <td>...</td>\n",
              "      <td>...</td>\n",
              "      <td>...</td>\n",
              "      <td>...</td>\n",
              "      <td>...</td>\n",
              "    </tr>\n",
              "    <tr>\n",
              "      <th>10032</th>\n",
              "      <td>a11032</td>\n",
              "      <td>1/17/18</td>\n",
              "      <td>Email</td>\n",
              "      <td>control</td>\n",
              "      <td>German</td>\n",
              "      <td>True</td>\n",
              "    </tr>\n",
              "    <tr>\n",
              "      <th>10033</th>\n",
              "      <td>a11033</td>\n",
              "      <td>1/17/18</td>\n",
              "      <td>Email</td>\n",
              "      <td>control</td>\n",
              "      <td>German</td>\n",
              "      <td>True</td>\n",
              "    </tr>\n",
              "    <tr>\n",
              "      <th>10034</th>\n",
              "      <td>a11034</td>\n",
              "      <td>1/5/18</td>\n",
              "      <td>Instagram</td>\n",
              "      <td>control</td>\n",
              "      <td>German</td>\n",
              "      <td>False</td>\n",
              "    </tr>\n",
              "    <tr>\n",
              "      <th>10035</th>\n",
              "      <td>a11035</td>\n",
              "      <td>1/17/18</td>\n",
              "      <td>Email</td>\n",
              "      <td>control</td>\n",
              "      <td>German</td>\n",
              "      <td>True</td>\n",
              "    </tr>\n",
              "    <tr>\n",
              "      <th>10036</th>\n",
              "      <td>a11036</td>\n",
              "      <td>1/6/18</td>\n",
              "      <td>Facebook</td>\n",
              "      <td>control</td>\n",
              "      <td>German</td>\n",
              "      <td>False</td>\n",
              "    </tr>\n",
              "  </tbody>\n",
              "</table>\n",
              "<p>10037 rows × 6 columns</p>\n",
              "</div>\n",
              "      <button class=\"colab-df-convert\" onclick=\"convertToInteractive('df-ca4acd6d-8431-496c-bab3-f2d917737f69')\"\n",
              "              title=\"Convert this dataframe to an interactive table.\"\n",
              "              style=\"display:none;\">\n",
              "        \n",
              "  <svg xmlns=\"http://www.w3.org/2000/svg\" height=\"24px\"viewBox=\"0 0 24 24\"\n",
              "       width=\"24px\">\n",
              "    <path d=\"M0 0h24v24H0V0z\" fill=\"none\"/>\n",
              "    <path d=\"M18.56 5.44l.94 2.06.94-2.06 2.06-.94-2.06-.94-.94-2.06-.94 2.06-2.06.94zm-11 1L8.5 8.5l.94-2.06 2.06-.94-2.06-.94L8.5 2.5l-.94 2.06-2.06.94zm10 10l.94 2.06.94-2.06 2.06-.94-2.06-.94-.94-2.06-.94 2.06-2.06.94z\"/><path d=\"M17.41 7.96l-1.37-1.37c-.4-.4-.92-.59-1.43-.59-.52 0-1.04.2-1.43.59L10.3 9.45l-7.72 7.72c-.78.78-.78 2.05 0 2.83L4 21.41c.39.39.9.59 1.41.59.51 0 1.02-.2 1.41-.59l7.78-7.78 2.81-2.81c.8-.78.8-2.07 0-2.86zM5.41 20L4 18.59l7.72-7.72 1.47 1.35L5.41 20z\"/>\n",
              "  </svg>\n",
              "      </button>\n",
              "      \n",
              "  <style>\n",
              "    .colab-df-container {\n",
              "      display:flex;\n",
              "      flex-wrap:wrap;\n",
              "      gap: 12px;\n",
              "    }\n",
              "\n",
              "    .colab-df-convert {\n",
              "      background-color: #E8F0FE;\n",
              "      border: none;\n",
              "      border-radius: 50%;\n",
              "      cursor: pointer;\n",
              "      display: none;\n",
              "      fill: #1967D2;\n",
              "      height: 32px;\n",
              "      padding: 0 0 0 0;\n",
              "      width: 32px;\n",
              "    }\n",
              "\n",
              "    .colab-df-convert:hover {\n",
              "      background-color: #E2EBFA;\n",
              "      box-shadow: 0px 1px 2px rgba(60, 64, 67, 0.3), 0px 1px 3px 1px rgba(60, 64, 67, 0.15);\n",
              "      fill: #174EA6;\n",
              "    }\n",
              "\n",
              "    [theme=dark] .colab-df-convert {\n",
              "      background-color: #3B4455;\n",
              "      fill: #D2E3FC;\n",
              "    }\n",
              "\n",
              "    [theme=dark] .colab-df-convert:hover {\n",
              "      background-color: #434B5C;\n",
              "      box-shadow: 0px 1px 3px 1px rgba(0, 0, 0, 0.15);\n",
              "      filter: drop-shadow(0px 1px 2px rgba(0, 0, 0, 0.3));\n",
              "      fill: #FFFFFF;\n",
              "    }\n",
              "  </style>\n",
              "\n",
              "      <script>\n",
              "        const buttonEl =\n",
              "          document.querySelector('#df-ca4acd6d-8431-496c-bab3-f2d917737f69 button.colab-df-convert');\n",
              "        buttonEl.style.display =\n",
              "          google.colab.kernel.accessAllowed ? 'block' : 'none';\n",
              "\n",
              "        async function convertToInteractive(key) {\n",
              "          const element = document.querySelector('#df-ca4acd6d-8431-496c-bab3-f2d917737f69');\n",
              "          const dataTable =\n",
              "            await google.colab.kernel.invokeFunction('convertToInteractive',\n",
              "                                                     [key], {});\n",
              "          if (!dataTable) return;\n",
              "\n",
              "          const docLinkHtml = 'Like what you see? Visit the ' +\n",
              "            '<a target=\"_blank\" href=https://colab.research.google.com/notebooks/data_table.ipynb>data table notebook</a>'\n",
              "            + ' to learn more about interactive tables.';\n",
              "          element.innerHTML = '';\n",
              "          dataTable['output_type'] = 'display_data';\n",
              "          await google.colab.output.renderOutput(dataTable, element);\n",
              "          const docLink = document.createElement('div');\n",
              "          docLink.innerHTML = docLinkHtml;\n",
              "          element.appendChild(docLink);\n",
              "        }\n",
              "      </script>\n",
              "    </div>\n",
              "  </div>\n",
              "  "
            ]
          },
          "metadata": {},
          "execution_count": 4
        }
      ]
    },
    {
      "cell_type": "code",
      "source": [
        "marketing_campaign.variant.value_counts()"
      ],
      "metadata": {
        "colab": {
          "base_uri": "https://localhost:8080/"
        },
        "id": "fELYVGBqQmwM",
        "outputId": "e0ad3d1e-5e4c-4076-fc29-e076570c31be"
      },
      "execution_count": null,
      "outputs": [
        {
          "output_type": "execute_result",
          "data": {
            "text/plain": [
              "control            5091\n",
              "personalization    4946\n",
              "Name: variant, dtype: int64"
            ]
          },
          "metadata": {},
          "execution_count": 5
        }
      ]
    },
    {
      "cell_type": "code",
      "source": [
        "marketing_campaign.converted.value_counts()"
      ],
      "metadata": {
        "colab": {
          "base_uri": "https://localhost:8080/"
        },
        "id": "fbPX__x2QpO0",
        "outputId": "f3c0bd32-f59e-4546-d21a-2a2946335627"
      },
      "execution_count": null,
      "outputs": [
        {
          "output_type": "execute_result",
          "data": {
            "text/plain": [
              "False    8946\n",
              "True     1076\n",
              "Name: converted, dtype: int64"
            ]
          },
          "metadata": {},
          "execution_count": 6
        }
      ]
    },
    {
      "cell_type": "code",
      "source": [
        "marketing_campaign.isna().any()"
      ],
      "metadata": {
        "colab": {
          "base_uri": "https://localhost:8080/"
        },
        "id": "HkN7FJ-JR1Hj",
        "outputId": "bd052899-0ced-4786-d1aa-0db840b6e440"
      },
      "execution_count": null,
      "outputs": [
        {
          "output_type": "execute_result",
          "data": {
            "text/plain": [
              "user_id               False\n",
              "date_served            True\n",
              "marketing_channel      True\n",
              "variant               False\n",
              "language_displayed    False\n",
              "converted              True\n",
              "dtype: bool"
            ]
          },
          "metadata": {},
          "execution_count": 8
        }
      ]
    },
    {
      "cell_type": "markdown",
      "source": [
        "Заполним пропуски в столбце converted модой:"
      ],
      "metadata": {
        "id": "kHjcfPfVR-sT"
      }
    },
    {
      "cell_type": "code",
      "source": [
        "marketing_campaign['converted'].fillna(marketing_campaign['converted'].value_counts().index[0], inplace=True)"
      ],
      "metadata": {
        "id": "Idjagq_dSEJM"
      },
      "execution_count": null,
      "outputs": []
    },
    {
      "cell_type": "code",
      "source": [
        "marketing_campaign.converted.value_counts()"
      ],
      "metadata": {
        "colab": {
          "base_uri": "https://localhost:8080/"
        },
        "id": "FpEUe4p7SH9b",
        "outputId": "5b4c6ee5-c5e7-46ee-8df4-be23680a767c"
      },
      "execution_count": null,
      "outputs": [
        {
          "output_type": "execute_result",
          "data": {
            "text/plain": [
              "False    8961\n",
              "True     1076\n",
              "Name: converted, dtype: int64"
            ]
          },
          "metadata": {},
          "execution_count": 10
        }
      ]
    },
    {
      "cell_type": "code",
      "source": [
        "marketing_campaign['converted'].sum() / marketing_campaign.shape[0]"
      ],
      "metadata": {
        "colab": {
          "base_uri": "https://localhost:8080/"
        },
        "id": "Kvh69s0AScUL",
        "outputId": "6f24cd28-b95a-42d4-9ead-f8204b44f319"
      },
      "execution_count": null,
      "outputs": [
        {
          "output_type": "execute_result",
          "data": {
            "text/plain": [
              "0.10720334761382884"
            ]
          },
          "metadata": {},
          "execution_count": 11
        }
      ]
    },
    {
      "cell_type": "code",
      "source": [
        "# Группа А\n",
        "k1 = marketing_campaign[marketing_campaign['variant'] == 'control']['converted'].sum()\n",
        "n1 = marketing_campaign[marketing_campaign['variant'] == 'control'].shape[0]\n",
        "\n",
        "# Группа Б\n",
        "k2 = marketing_campaign[marketing_campaign['variant'] == 'personalization']['converted'].sum()\n",
        "n2 = marketing_campaign[marketing_campaign['variant'] == 'personalization'].shape[0]\n",
        "\n",
        "k1, n1, k2, n2"
      ],
      "metadata": {
        "colab": {
          "base_uri": "https://localhost:8080/"
        },
        "id": "MQSEvhZpSjJT",
        "outputId": "241adc30-ad2f-40a5-b9fe-497fd48110ef"
      },
      "execution_count": null,
      "outputs": [
        {
          "output_type": "execute_result",
          "data": {
            "text/plain": [
              "(371, 5091, 705, 4946)"
            ]
          },
          "metadata": {},
          "execution_count": 12
        }
      ]
    },
    {
      "cell_type": "markdown",
      "source": [
        "Конверсия группа А:"
      ],
      "metadata": {
        "id": "9RYUMDkfSvMi"
      }
    },
    {
      "cell_type": "code",
      "source": [
        "k1 / n1"
      ],
      "metadata": {
        "colab": {
          "base_uri": "https://localhost:8080/"
        },
        "id": "yS2LfUkRSxn6",
        "outputId": "03deea08-a10c-48b2-a08a-1c934120457d"
      },
      "execution_count": null,
      "outputs": [
        {
          "output_type": "execute_result",
          "data": {
            "text/plain": [
              "0.07287369868395208"
            ]
          },
          "metadata": {},
          "execution_count": 13
        }
      ]
    },
    {
      "cell_type": "markdown",
      "source": [
        "Конверсия группы Б:"
      ],
      "metadata": {
        "id": "uShtMQ3aSz9S"
      }
    },
    {
      "cell_type": "code",
      "source": [
        "k2 / n2"
      ],
      "metadata": {
        "colab": {
          "base_uri": "https://localhost:8080/"
        },
        "id": "JHwWvz2QS2Lc",
        "outputId": "c31ce3e8-432d-4c13-a2d8-0d4c813d3070"
      },
      "execution_count": null,
      "outputs": [
        {
          "output_type": "execute_result",
          "data": {
            "text/plain": [
              "0.14253942579862516"
            ]
          },
          "metadata": {},
          "execution_count": 14
        }
      ]
    },
    {
      "cell_type": "markdown",
      "source": [
        "Конверсии сильно различны. Есть вероятность статистической разницы."
      ],
      "metadata": {
        "id": "Cb-zrEGPS3hi"
      }
    },
    {
      "cell_type": "markdown",
      "source": [
        "по z критерию"
      ],
      "metadata": {
        "id": "WZpmIidkTFDb"
      }
    },
    {
      "cell_type": "code",
      "source": [
        "z_score, z_pvalue = proportion.proportions_ztest(np.array([k1, k2]),\n",
        "                                                 np.array([n1, n2]))\n",
        "print(f'z_score = {z_score:.3f}, p-value = {z_pvalue:.3f}')"
      ],
      "metadata": {
        "colab": {
          "base_uri": "https://localhost:8080/"
        },
        "id": "jfFa7fkpTEgE",
        "outputId": "0d2d0a30-7963-4f55-ec0e-3c5d76115798"
      },
      "execution_count": null,
      "outputs": [
        {
          "output_type": "stream",
          "name": "stdout",
          "text": [
            "z_score = -11.279, p-value = 0.000\n"
          ]
        }
      ]
    },
    {
      "cell_type": "markdown",
      "source": [
        "По хи-квадрат"
      ],
      "metadata": {
        "id": "7TjkgBQ2TTvj"
      }
    },
    {
      "cell_type": "code",
      "source": [
        "chisq, chi_pvalue, table = proportion.proportions_chisquare(np.array([k1, k2]),\n",
        "                                                            np.array([n1, n2]))\n",
        "print(f'chisq_score = {chisq:.3f}, p-value = {chi_pvalue:.3f}')"
      ],
      "metadata": {
        "colab": {
          "base_uri": "https://localhost:8080/"
        },
        "id": "t7DhIzePTaPL",
        "outputId": "7e7a40f5-7a20-41e7-ce7b-d349bea8404d"
      },
      "execution_count": null,
      "outputs": [
        {
          "output_type": "stream",
          "name": "stdout",
          "text": [
            "chisq_score = 127.213, p-value = 0.000\n"
          ]
        }
      ]
    },
    {
      "cell_type": "markdown",
      "source": [
        "Оба теста показали, что нулевая гипотеза, которая говорит о том,\n",
        "что разница между получившимися конверсиями является случайной,\n",
        "с высокой долей вероятности является ложной.\n",
        "Таким образом считаем, что после применения персонализации конверсия\n",
        "изменилась значительно."
      ],
      "metadata": {
        "id": "BzXv0BYGThix"
      }
    }
  ]
}