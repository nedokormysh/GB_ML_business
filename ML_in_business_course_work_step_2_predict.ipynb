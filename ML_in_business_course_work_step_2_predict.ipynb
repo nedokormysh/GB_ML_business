{
  "nbformat": 4,
  "nbformat_minor": 0,
  "metadata": {
    "colab": {
      "provenance": [],
      "authorship_tag": "ABX9TyOGh28b/qfeXFL+3GWe0dRL",
      "include_colab_link": true
    },
    "kernelspec": {
      "name": "python3",
      "display_name": "Python 3"
    },
    "language_info": {
      "name": "python"
    }
  },
  "cells": [
    {
      "cell_type": "markdown",
      "metadata": {
        "id": "view-in-github",
        "colab_type": "text"
      },
      "source": [
        "<a href=\"https://colab.research.google.com/github/nedokormysh/GB_ML_business/blob/course_project/ML_in_business_course_work_step_2_predict.ipynb\" target=\"_parent\"><img src=\"https://colab.research.google.com/assets/colab-badge.svg\" alt=\"Open In Colab\"/></a>"
      ]
    },
    {
      "cell_type": "markdown",
      "source": [
        "# Проверка работоспособности и качества пайплайна"
      ],
      "metadata": {
        "id": "IIu7BpmQ5Osy"
      }
    },
    {
      "cell_type": "markdown",
      "source": [
        "Здесь мы еще не запускаем никакое API, а загружаем модель (pipeline) напрямую и проверяем на отложенной (тестовой) выборке"
      ],
      "metadata": {
        "id": "sDM3v18G5SJ4"
      }
    },
    {
      "cell_type": "code",
      "execution_count": 1,
      "metadata": {
        "id": "8bdjyiQ85FE9"
      },
      "outputs": [],
      "source": [
        "import numpy as np\n",
        "import pandas as pd\n",
        "from sklearn.metrics import roc_auc_score\n",
        "from pathlib import Path\n",
        "import dill"
      ]
    },
    {
      "cell_type": "code",
      "source": [
        "X_val = pd.read_csv(\"X_test.csv\")\n",
        "y_val = pd.read_csv(\"y_test.csv\")"
      ],
      "metadata": {
        "id": "DuPe50675oKW"
      },
      "execution_count": 3,
      "outputs": []
    },
    {
      "cell_type": "code",
      "source": [
        "with open('./models/xgb_simple.dill', 'rb') as in_strm:\n",
        "    pipeline = dill.load(in_strm)"
      ],
      "metadata": {
        "id": "LZq8_eR37F8p"
      },
      "execution_count": 4,
      "outputs": []
    },
    {
      "cell_type": "code",
      "source": [
        "y_score = pipeline.predict_proba(X_val)[:, 1]"
      ],
      "metadata": {
        "id": "uF0QL7er7d7p"
      },
      "execution_count": 5,
      "outputs": []
    },
    {
      "cell_type": "code",
      "source": [
        "roc_auc_score(y_val, y_score)"
      ],
      "metadata": {
        "colab": {
          "base_uri": "https://localhost:8080/"
        },
        "id": "WGr5u2Yv7kWI",
        "outputId": "d79af1a9-dc72-4474-8fea-a57a917a6167"
      },
      "execution_count": 7,
      "outputs": [
        {
          "output_type": "execute_result",
          "data": {
            "text/plain": [
              "0.8044761370346742"
            ]
          },
          "metadata": {},
          "execution_count": 7
        }
      ]
    },
    {
      "cell_type": "code",
      "source": [
        "y_score"
      ],
      "metadata": {
        "colab": {
          "base_uri": "https://localhost:8080/"
        },
        "id": "wbxuzqxQ7o0t",
        "outputId": "b338fa2a-5b50-4c78-b367-df2deb2373ab"
      },
      "execution_count": 8,
      "outputs": [
        {
          "output_type": "execute_result",
          "data": {
            "text/plain": [
              "array([0.33978865, 0.52148217, 0.40918976, ..., 0.10483579, 0.07060229,\n",
              "       0.09006673], dtype=float32)"
            ]
          },
          "metadata": {},
          "execution_count": 8
        }
      ]
    }
  ]
}