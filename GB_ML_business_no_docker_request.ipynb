{
  "nbformat": 4,
  "nbformat_minor": 0,
  "metadata": {
    "colab": {
      "provenance": [],
      "include_colab_link": true
    },
    "kernelspec": {
      "name": "python3",
      "display_name": "Python 3"
    }
  },
  "cells": [
    {
      "cell_type": "markdown",
      "metadata": {
        "id": "view-in-github",
        "colab_type": "text"
      },
      "source": [
        "<a href=\"https://colab.research.google.com/github/nedokormysh/GB_ML_business/blob/course_project/GB_ML_business_no_docker_request.ipynb\" target=\"_parent\"><img src=\"https://colab.research.google.com/assets/colab-badge.svg\" alt=\"Open In Colab\"/></a>"
      ]
    },
    {
      "cell_type": "markdown",
      "metadata": {
        "id": "mCvG3HpmbRKo"
      },
      "source": [
        "Строим запрос к нашему сервису"
      ]
    },
    {
      "cell_type": "code",
      "metadata": {
        "id": "Cxm28pii80xp"
      },
      "source": [
        "import requests\n",
        "\n",
        "import urllib.request\n",
        "import json "
      ],
      "execution_count": 144,
      "outputs": []
    },
    {
      "cell_type": "code",
      "source": [
        "# Пример данных\n",
        "data = ('city_136', 0.827, 'Male', 'No relevent experience', 'Full time course', 'Masters', 'STEM', '4', '50-99', 'Funded Startup', '1', 11)"
      ],
      "metadata": {
        "id": "EWP3BCM6OBXv"
      },
      "execution_count": 148,
      "outputs": []
    },
    {
      "cell_type": "code",
      "metadata": {
        "id": "J_xtPIQt8toy"
      },
      "source": [
        "# формируем запрос\n",
        "def send_json(x):\n",
        "    city, city_development_index, gender, relevent_experience, enrolled_university, education_level, major_discipline, experience, company_size, company_type, last_new_job, training_hours = x\n",
        "    \n",
        "    body = {\n",
        "            'city': city, \n",
        "            'city_development_index': city_development_index,\n",
        "            'gender': gender,\n",
        "            'relevent_experience': relevent_experience,\n",
        "            'enrolled_university': enrolled_university,\n",
        "            'education_level': education_level,\n",
        "            'major_discipline': major_discipline,\n",
        "            'experience': experience,\n",
        "            'company_size': company_size,\n",
        "            'company_type': company_type,\n",
        "            'last_new_job': last_new_job,\n",
        "            'training_hours': training_hours,\n",
        "        }\n",
        "\n",
        "    # print(body)\n",
        "\n",
        "    myurl = 'http://8cd2-35-245-59-110.ngrok.io' + '/predict'\n",
        "    headers = {'content-type': 'application/json; charset=utf-8'}\n",
        "    response = requests.post(myurl, json=body, headers=headers)\n",
        "    return response.json()['predictions']"
      ],
      "execution_count": 149,
      "outputs": []
    },
    {
      "cell_type": "code",
      "source": [
        "# обращение к серверу с запросом из одного набора (его построили руками выше - data)\n",
        "response = send_json(data)\n",
        "print('предсказание', response)"
      ],
      "metadata": {
        "colab": {
          "base_uri": "https://localhost:8080/"
        },
        "id": "tC_X22yuq0uZ",
        "outputId": "1de33162-89b8-450f-fd98-13078d2389bf"
      },
      "execution_count": 150,
      "outputs": [
        {
          "output_type": "stream",
          "name": "stdout",
          "text": [
            "предсказание 0.07990615\n"
          ]
        }
      ]
    },
    {
      "cell_type": "markdown",
      "metadata": {
        "id": "0ap3kT0Ndwy8"
      },
      "source": [
        "Сделаем обработку массы запросов:\n",
        "\n",
        "1. загрузим данные X_test"
      ]
    },
    {
      "cell_type": "code",
      "metadata": {
        "id": "86un8JyLFzIy"
      },
      "source": [
        "import pandas as pd\n",
        "from sklearn.metrics import roc_auc_score, roc_curve, precision_recall_curve\n",
        "from sklearn.metrics import f1_score\n",
        "from urllib import request, parse\n",
        "import numpy as np\n",
        "\n",
        "\n",
        "X_test = pd.read_csv(\"https://raw.githubusercontent.com/nedokormysh/GB_ML_business/course_project/X_test.csv\")\n",
        "y_test = pd.read_csv(\"https://raw.githubusercontent.com/nedokormysh/GB_ML_business/course_project/y_test.csv\")"
      ],
      "execution_count": 151,
      "outputs": []
    },
    {
      "cell_type": "code",
      "source": [
        "X_test['training_hours'] = X_test['training_hours'].astype(float)"
      ],
      "metadata": {
        "id": "RiZQ-rCKkj3m"
      },
      "execution_count": 152,
      "outputs": []
    },
    {
      "cell_type": "markdown",
      "metadata": {
        "id": "EEI1n7m4d6hl"
      },
      "source": [
        "2. Передаем запрос одиночный из наших данных и посмотрим на ответ"
      ]
    },
    {
      "cell_type": "code",
      "source": [
        "X_test[['city',\n",
        "                             'city_development_index',\n",
        "                             'gender',\n",
        "                             'relevent_experience',\n",
        "                             'enrolled_university',\n",
        "                             'education_level',\n",
        "                             'major_discipline',\n",
        "                             'experience',\n",
        "                             'company_size',\n",
        "                             'company_type',\n",
        "                             'last_new_job',\n",
        "                             'training_hours']].iloc[0,:]"
      ],
      "metadata": {
        "colab": {
          "base_uri": "https://localhost:8080/"
        },
        "id": "3FPxw_N7jIr5",
        "outputId": "03815db6-1758-40da-812f-98de2428fc45"
      },
      "execution_count": 154,
      "outputs": [
        {
          "output_type": "execute_result",
          "data": {
            "text/plain": [
              "city                                    city_103\n",
              "city_development_index                      0.92\n",
              "gender                                       NaN\n",
              "relevent_experience       No relevent experience\n",
              "enrolled_university                no_enrollment\n",
              "education_level                      High School\n",
              "major_discipline                             NaN\n",
              "experience                                    <1\n",
              "company_size                                 NaN\n",
              "company_type                                 NaN\n",
              "last_new_job                                 NaN\n",
              "training_hours                               6.0\n",
              "Name: 0, dtype: object"
            ]
          },
          "metadata": {},
          "execution_count": 154
        }
      ]
    },
    {
      "cell_type": "code",
      "metadata": {
        "id": "6hdMT1q39TuA"
      },
      "source": [
        "response = send_json(X_test[['city',\n",
        "                             'city_development_index',\n",
        "                             'gender',\n",
        "                             'relevent_experience',\n",
        "                             'enrolled_university',\n",
        "                             'education_level',\n",
        "                             'major_discipline',\n",
        "                             'experience',\n",
        "                             'company_size',\n",
        "                             'company_type',\n",
        "                             'last_new_job',\n",
        "                             'training_hours']].iloc[0,:])"
      ],
      "execution_count": 155,
      "outputs": []
    },
    {
      "cell_type": "code",
      "metadata": {
        "id": "bfMibegjGgKq",
        "colab": {
          "base_uri": "https://localhost:8080/",
          "height": 36
        },
        "outputId": "25abaa30-7cd7-42f7-e92e-e84ada668d1f"
      },
      "source": [
        "response"
      ],
      "execution_count": 156,
      "outputs": [
        {
          "output_type": "execute_result",
          "data": {
            "text/plain": [
              "'0.33687592'"
            ],
            "application/vnd.google.colaboratory.intrinsic+json": {
              "type": "string"
            }
          },
          "metadata": {},
          "execution_count": 156
        }
      ]
    },
    {
      "cell_type": "markdown",
      "metadata": {
        "id": "mPcCXiQ1eMwN"
      },
      "source": [
        "3. Сделаем N запросов и оценим время"
      ]
    },
    {
      "cell_type": "code",
      "metadata": {
        "id": "B8rN18B4qCJV"
      },
      "source": [
        "N = 100"
      ],
      "execution_count": 157,
      "outputs": []
    },
    {
      "cell_type": "code",
      "metadata": {
        "colab": {
          "base_uri": "https://localhost:8080/"
        },
        "id": "UbD-kDI7j5G_",
        "outputId": "83586b02-a47e-4d3e-f054-b34242294939"
      },
      "source": [
        "%%time\n",
        "predictions = X_test[\n",
        "                     ['city',\n",
        "                             'city_development_index',\n",
        "                             'gender',\n",
        "                             'relevent_experience',\n",
        "                             'enrolled_university',\n",
        "                             'education_level',\n",
        "                             'major_discipline',\n",
        "                             'experience',\n",
        "                             'company_size',\n",
        "                             'company_type',\n",
        "                             'last_new_job',\n",
        "                             'training_hours']\n",
        "                     ].iloc[:N].apply(lambda x: send_json(x), axis=1)"
      ],
      "execution_count": 158,
      "outputs": [
        {
          "output_type": "stream",
          "name": "stdout",
          "text": [
            "CPU times: user 413 ms, sys: 56.4 ms, total: 469 ms\n",
            "Wall time: 28.8 s\n"
          ]
        }
      ]
    },
    {
      "cell_type": "code",
      "source": [
        "predictions = predictions.astype(float)"
      ],
      "metadata": {
        "id": "alutps3EpSup"
      },
      "execution_count": 159,
      "outputs": []
    },
    {
      "cell_type": "markdown",
      "metadata": {
        "id": "5-Emg5b1eTia"
      },
      "source": [
        "4. Посчитаем метрику"
      ]
    },
    {
      "cell_type": "code",
      "metadata": {
        "colab": {
          "base_uri": "https://localhost:8080/",
          "height": 206
        },
        "id": "qrbuoWWNpDU0",
        "outputId": "acc6fd57-6430-414d-a071-a5739b1025a9"
      },
      "source": [
        "y_test.head()"
      ],
      "execution_count": 160,
      "outputs": [
        {
          "output_type": "execute_result",
          "data": {
            "text/plain": [
              "   target\n",
              "0     0.0\n",
              "1     0.0\n",
              "2     0.0\n",
              "3     0.0\n",
              "4     0.0"
            ],
            "text/html": [
              "\n",
              "  <div id=\"df-e676bda8-300d-4a20-9c3b-d1bbc6904825\">\n",
              "    <div class=\"colab-df-container\">\n",
              "      <div>\n",
              "<style scoped>\n",
              "    .dataframe tbody tr th:only-of-type {\n",
              "        vertical-align: middle;\n",
              "    }\n",
              "\n",
              "    .dataframe tbody tr th {\n",
              "        vertical-align: top;\n",
              "    }\n",
              "\n",
              "    .dataframe thead th {\n",
              "        text-align: right;\n",
              "    }\n",
              "</style>\n",
              "<table border=\"1\" class=\"dataframe\">\n",
              "  <thead>\n",
              "    <tr style=\"text-align: right;\">\n",
              "      <th></th>\n",
              "      <th>target</th>\n",
              "    </tr>\n",
              "  </thead>\n",
              "  <tbody>\n",
              "    <tr>\n",
              "      <th>0</th>\n",
              "      <td>0.0</td>\n",
              "    </tr>\n",
              "    <tr>\n",
              "      <th>1</th>\n",
              "      <td>0.0</td>\n",
              "    </tr>\n",
              "    <tr>\n",
              "      <th>2</th>\n",
              "      <td>0.0</td>\n",
              "    </tr>\n",
              "    <tr>\n",
              "      <th>3</th>\n",
              "      <td>0.0</td>\n",
              "    </tr>\n",
              "    <tr>\n",
              "      <th>4</th>\n",
              "      <td>0.0</td>\n",
              "    </tr>\n",
              "  </tbody>\n",
              "</table>\n",
              "</div>\n",
              "      <button class=\"colab-df-convert\" onclick=\"convertToInteractive('df-e676bda8-300d-4a20-9c3b-d1bbc6904825')\"\n",
              "              title=\"Convert this dataframe to an interactive table.\"\n",
              "              style=\"display:none;\">\n",
              "        \n",
              "  <svg xmlns=\"http://www.w3.org/2000/svg\" height=\"24px\"viewBox=\"0 0 24 24\"\n",
              "       width=\"24px\">\n",
              "    <path d=\"M0 0h24v24H0V0z\" fill=\"none\"/>\n",
              "    <path d=\"M18.56 5.44l.94 2.06.94-2.06 2.06-.94-2.06-.94-.94-2.06-.94 2.06-2.06.94zm-11 1L8.5 8.5l.94-2.06 2.06-.94-2.06-.94L8.5 2.5l-.94 2.06-2.06.94zm10 10l.94 2.06.94-2.06 2.06-.94-2.06-.94-.94-2.06-.94 2.06-2.06.94z\"/><path d=\"M17.41 7.96l-1.37-1.37c-.4-.4-.92-.59-1.43-.59-.52 0-1.04.2-1.43.59L10.3 9.45l-7.72 7.72c-.78.78-.78 2.05 0 2.83L4 21.41c.39.39.9.59 1.41.59.51 0 1.02-.2 1.41-.59l7.78-7.78 2.81-2.81c.8-.78.8-2.07 0-2.86zM5.41 20L4 18.59l7.72-7.72 1.47 1.35L5.41 20z\"/>\n",
              "  </svg>\n",
              "      </button>\n",
              "      \n",
              "  <style>\n",
              "    .colab-df-container {\n",
              "      display:flex;\n",
              "      flex-wrap:wrap;\n",
              "      gap: 12px;\n",
              "    }\n",
              "\n",
              "    .colab-df-convert {\n",
              "      background-color: #E8F0FE;\n",
              "      border: none;\n",
              "      border-radius: 50%;\n",
              "      cursor: pointer;\n",
              "      display: none;\n",
              "      fill: #1967D2;\n",
              "      height: 32px;\n",
              "      padding: 0 0 0 0;\n",
              "      width: 32px;\n",
              "    }\n",
              "\n",
              "    .colab-df-convert:hover {\n",
              "      background-color: #E2EBFA;\n",
              "      box-shadow: 0px 1px 2px rgba(60, 64, 67, 0.3), 0px 1px 3px 1px rgba(60, 64, 67, 0.15);\n",
              "      fill: #174EA6;\n",
              "    }\n",
              "\n",
              "    [theme=dark] .colab-df-convert {\n",
              "      background-color: #3B4455;\n",
              "      fill: #D2E3FC;\n",
              "    }\n",
              "\n",
              "    [theme=dark] .colab-df-convert:hover {\n",
              "      background-color: #434B5C;\n",
              "      box-shadow: 0px 1px 3px 1px rgba(0, 0, 0, 0.15);\n",
              "      filter: drop-shadow(0px 1px 2px rgba(0, 0, 0, 0.3));\n",
              "      fill: #FFFFFF;\n",
              "    }\n",
              "  </style>\n",
              "\n",
              "      <script>\n",
              "        const buttonEl =\n",
              "          document.querySelector('#df-e676bda8-300d-4a20-9c3b-d1bbc6904825 button.colab-df-convert');\n",
              "        buttonEl.style.display =\n",
              "          google.colab.kernel.accessAllowed ? 'block' : 'none';\n",
              "\n",
              "        async function convertToInteractive(key) {\n",
              "          const element = document.querySelector('#df-e676bda8-300d-4a20-9c3b-d1bbc6904825');\n",
              "          const dataTable =\n",
              "            await google.colab.kernel.invokeFunction('convertToInteractive',\n",
              "                                                     [key], {});\n",
              "          if (!dataTable) return;\n",
              "\n",
              "          const docLinkHtml = 'Like what you see? Visit the ' +\n",
              "            '<a target=\"_blank\" href=https://colab.research.google.com/notebooks/data_table.ipynb>data table notebook</a>'\n",
              "            + ' to learn more about interactive tables.';\n",
              "          element.innerHTML = '';\n",
              "          dataTable['output_type'] = 'display_data';\n",
              "          await google.colab.output.renderOutput(dataTable, element);\n",
              "          const docLink = document.createElement('div');\n",
              "          docLink.innerHTML = docLinkHtml;\n",
              "          element.appendChild(docLink);\n",
              "        }\n",
              "      </script>\n",
              "    </div>\n",
              "  </div>\n",
              "  "
            ]
          },
          "metadata": {},
          "execution_count": 160
        }
      ]
    },
    {
      "cell_type": "code",
      "metadata": {
        "colab": {
          "base_uri": "https://localhost:8080/"
        },
        "id": "RNQmFOfXnAky",
        "outputId": "7b6d39d7-6b93-4953-d8f0-af54b17a164e"
      },
      "source": [
        "roc_auc_score(y_score=predictions.values, y_true=y_test.values[:N])"
      ],
      "execution_count": 161,
      "outputs": [
        {
          "output_type": "execute_result",
          "data": {
            "text/plain": [
              "0.78125"
            ]
          },
          "metadata": {},
          "execution_count": 161
        }
      ]
    }
  ]
}